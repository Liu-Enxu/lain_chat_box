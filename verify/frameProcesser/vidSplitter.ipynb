{
 "cells": [
  {
   "cell_type": "markdown",
   "id": "17490151-340b-493b-ae8d-0f1d43bef6bc",
   "metadata": {},
   "source": [
    "# Video split and resize"
   ]
  },
  {
   "cell_type": "markdown",
   "id": "c013067c-43bd-4740-91aa-35f848663f84",
   "metadata": {},
   "source": [
    "## Func"
   ]
  },
  {
   "cell_type": "code",
   "execution_count": 19,
   "id": "ac329d44-bf4d-457d-b2b4-8e936631b089",
   "metadata": {},
   "outputs": [],
   "source": [
    "import cv2\n",
    "import os\n",
    "import sys\n",
    "import ffmpeg\n",
    "\n",
    "def split_video_to_frames(video_path, output_folder, frame_size=(128, 128)):\n",
    "    # Create the output folder if it doesn't exist\n",
    "    if os.path.exists(output_folder) and os.path.isdir(output_folder):\n",
    "        print(\"deleting...\")\n",
    "        for item in os.listdir(output_folder):\n",
    "            item_path = os.path.join(output_folder, item)\n",
    "            if os.path.isfile(item_path) or os.path.islink(item_path):\n",
    "                os.unlink(item_path)  # Remove the file or symlink\n",
    "            elif os.path.isdir(item_path):\n",
    "                shutil.rmtree(item_path)  # Remove the directory\n",
    "\n",
    "    os.makedirs(output_folder, exist_ok=True)\n",
    "\n",
    "    # Open the video file\n",
    "    cap = cv2.VideoCapture(video_path)\n",
    "    if not cap.isOpened():\n",
    "        print(\"Error: Could not open video file.\")\n",
    "        return\n",
    "    print(\"fps: \",cap.get(cv2.CAP_PROP_FPS))\n",
    "    \n",
    "    frame_idx = 0\n",
    "    while True:\n",
    "        # Read a frame from the video\n",
    "        ret, frame = cap.read()\n",
    "        if not ret:\n",
    "            break  # Exit when no frames are left\n",
    "\n",
    "        # Resize the frame to the desired size\n",
    "        resized_frame = cv2.resize(frame, frame_size)\n",
    "\n",
    "        # Save the frame as an image file\n",
    "        frame_filename = os.path.join(output_folder, f\"frame_{frame_idx:04d}.jpg\")\n",
    "        cv2.imwrite(frame_filename, resized_frame)\n",
    "\n",
    "        frame_idx += 1\n",
    "\n",
    "    cap.release()\n",
    "    print(f\"Finished extracting {frame_idx} frames to '{output_folder}'.\")\n",
    "\n",
    "def changeFPS(input_video_path,output_video_path,target_fps):\n",
    "    if not os.path.exists(input_video_path):\n",
    "        raise FileNotFoundError(f\"Input file not found: {input_video_path}\")\n",
    "    ffmpeg.input(input_video_path).filter('fps',fps=target_fps,round='up').output(output_video_path).run()"
   ]
  },
  {
   "cell_type": "markdown",
   "id": "2176c0ce-4f15-402c-af50-1288404972b9",
   "metadata": {},
   "source": [
    "## Use"
   ]
  },
  {
   "cell_type": "code",
   "execution_count": 21,
   "id": "da23d594-7375-47b1-ad91-0efe24a56df3",
   "metadata": {},
   "outputs": [
    {
     "name": "stdout",
     "output_type": "stream",
     "text": [
      "deleting...\n",
      "fps:  18.0\n",
      "Finished extracting 3948 frames to 'D:\\_____ENGINEERING_____\\arduino\\AnimationTFT-main\\myConverter\\vid/bad_apple\\bad_appleFrames'.\n"
     ]
    }
   ],
   "source": [
    "# Example usage\n",
    "name = \"bad_apple\"\n",
    "target_fps = 18\n",
    "current_path = os.getcwd()\n",
    "parent_folder = os.path.join(current_path, \"vid/\"+name)\n",
    "\n",
    "video_path = os.path.join(parent_folder,name+\".mp4\")  # Path to your video file\n",
    "altered_fps_vid_path = os.path.join(parent_folder,name+\"_\"+str(target_fps)+\"fps.mp4\")\n",
    "# print(altered_fps_vid_path)\n",
    "output_folder = os.path.join(parent_folder,name+\"Frames\")  # Folder to save the extracted frames\n",
    "\n",
    "\n",
    "changeFPS(video_path,altered_fps_vid_path,target_fps)\n",
    "split_video_to_frames(altered_fps_vid_path, output_folder)"
   ]
  },
  {
   "cell_type": "code",
   "execution_count": null,
   "id": "0964a670-f7c9-4c98-9dff-cb0e0681a49d",
   "metadata": {},
   "outputs": [],
   "source": []
  }
 ],
 "metadata": {
  "kernelspec": {
   "display_name": "Python 3 (ipykernel)",
   "language": "python",
   "name": "python3"
  },
  "language_info": {
   "codemirror_mode": {
    "name": "ipython",
    "version": 3
   },
   "file_extension": ".py",
   "mimetype": "text/x-python",
   "name": "python",
   "nbconvert_exporter": "python",
   "pygments_lexer": "ipython3",
   "version": "3.8.20"
  }
 },
 "nbformat": 4,
 "nbformat_minor": 5
}
