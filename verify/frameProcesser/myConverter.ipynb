{
 "cells": [
  {
   "cell_type": "markdown",
   "id": "d5300ddc-890e-4bb1-a963-29146dc426cb",
   "metadata": {},
   "source": [
    "# Func"
   ]
  },
  {
   "cell_type": "code",
   "execution_count": 2,
   "id": "0dbee5b0-fc79-43a5-b7b7-b50a84b35f10",
   "metadata": {},
   "outputs": [],
   "source": [
    "import os\n",
    "from PIL import Image\n",
    "import csv\n",
    "from shutil import copyfile\n",
    "# Function to convert RGB values to 16-bit 5-6-5 format\n",
    "def rgb_to_565(r, g, b):\n",
    "    r = (r >> 3) & 0x1F  # Red is 5 bits\n",
    "    g = (g >> 2) & 0x3F  # Green is 6 bits\n",
    "    b = (b >> 3) & 0x1F  # Blue is 5 bits\n",
    "    return (r << 11) | (g << 5) | b  # Combine the RGB values into a 16-bit color\n",
    "\n",
    "def color_to_char(color): # deprecated\n",
    "    MSB = (color >> 8) & 0xFF\n",
    "    LSB = color & 0xFF \n",
    "    return chr(MSB), chr(LSB), MSB, LSB\n",
    "\n",
    "def color_to_raws(color):\n",
    "    MSB = (color >> 8) & 0xFF\n",
    "    LSB = color & 0xFF \n",
    "    return MSB,LSB\n",
    "\n",
    "# Read the folder, process each jpg image\n",
    "def process_images(folder_path):\n",
    "    frames_raw = []\n",
    "    frames_hex4 = []\n",
    "    frames_int = []\n",
    "    width = height = None\n",
    "    \n",
    "    # Read all JPG files in the directory\n",
    "    for filename in sorted(os.listdir(folder_path)):\n",
    "        if filename.endswith(\".jpg\"):\n",
    "            image_path = os.path.join(folder_path, filename)\n",
    "            img = Image.open(image_path)\n",
    "            img = img.convert(\"RGB\")  # Ensure the image is in RGB format\n",
    "            \n",
    "            # Get width and height from the first image (assuming all frames have the same size)\n",
    "            if width is None or height is None:\n",
    "                width, height = img.size\n",
    "            \n",
    "            # Create a list to hold pixel colors for this frame\n",
    "            frame_data_raw = []\n",
    "            frame_data_hex4 = []\n",
    "            frame_data_int = []\n",
    "            # Iterate over each pixel in the image\n",
    "            for y in range(height):\n",
    "                for x in range(width):\n",
    "                    r, g, b = img.getpixel((x, y))\n",
    "                    color_code = rgb_to_565(r, g, b)\n",
    "                    \n",
    "                    MSB,LSB = color_to_raws(color_code);frame_data_raw.append(MSB);frame_data_raw.append(LSB);\n",
    "                    frame_data_hex4.append(f\"{color_code:04X}\")\n",
    "                    frame_data_int.append(color_code)\n",
    "            \n",
    "            # Add this frame's data to the frames list\n",
    "            frames_raw.append(frame_data_raw)\n",
    "            frames_hex4.append(frame_data_hex4)\n",
    "            frames_int.append(frame_data_int)\n",
    "            \n",
    "    return frames_raw,frames_hex4, frames_int, width, height, len(frames_hex4)\n",
    "\n",
    "# double file\n",
    "def process_images_double(folder_path):\n",
    "    frames_hex_0 = []\n",
    "    frames_hex_1 = []\n",
    "    width = height = None\n",
    "    \n",
    "    # Read all JPG files in the directory\n",
    "    for filename in sorted(os.listdir(folder_path)):\n",
    "        if filename.endswith(\".jpg\"):\n",
    "            image_path = os.path.join(folder_path, filename)\n",
    "            img = Image.open(image_path)\n",
    "            img = img.convert(\"RGB\")  # Ensure the image is in RGB format\n",
    "            \n",
    "            # Get width and height from the first image (assuming all frames have the same size)\n",
    "            if width is None or height is None:\n",
    "                width, height = img.size\n",
    "            \n",
    "            # Create a list to hold pixel colors for this frame\n",
    "            frame_data_hex_0 = []\n",
    "            frame_data_hex_1 = []\n",
    "            # Iterate over each pixel in the image\n",
    "            for y in range(height//2):\n",
    "                for x in range(width):\n",
    "                    r, g, b = img.getpixel((x, y))\n",
    "                    color_code = rgb_to_565(r, g, b)\n",
    "                    frame_data_hex_0.append(f\"{color_code:04X}\")\n",
    "\n",
    "            for y in range(height//2,height):\n",
    "                for x in range(width):\n",
    "                    r, g, b = img.getpixel((x, y))\n",
    "                    color_code = rgb_to_565(r, g, b)\n",
    "                    frame_data_hex_1.append(f\"{color_code:04X}\")\n",
    "            \n",
    "            # Add this frame's data to the frames list\n",
    "            frames_hex_0.append(frame_data_hex_0)\n",
    "            frames_hex_1.append(frame_data_hex_1)\n",
    "            \n",
    "    return frames_hex_0, frames_hex_1, width, height, len(frames_hex_0)\n",
    "    \n",
    "def stepFrame(folder_path,stepNum:int):\n",
    "    output_folder_path = folder_path+\"Step\"+str(stepNum)\n",
    "    if(os.path.exists(output_folder_path)):\n",
    "        print(\"already generated!\")\n",
    "        return\n",
    "    else:\n",
    "        os.mkdir(output_folder_path)\n",
    "        image_files = sorted(os.listdir(folder_path))\n",
    "        for index, file in enumerate(image_files):\n",
    "            if index % stepNum == 0:  # Every 3rd frame (0, 3, 6, ...)\n",
    "                src = os.path.join(folder_path, file).replace(\"\\\\\", \"/\")\n",
    "                # print(src)\n",
    "                dst = os.path.join(output_folder_path, file).replace(\"\\\\\", \"/\")\n",
    "                # print(dst)\n",
    "                copyfile(src, dst)\n",
    "\n",
    "# Function to write the data to a C header file\n",
    "def write_header_file(frames, width, height, num_frames, output_file):\n",
    "    total = width*height\n",
    "    with open(output_file, \"w\") as f:\n",
    "        f.write(f\"int frames = {num_frames};\\n\")\n",
    "        f.write(f\"int animation_width = {width};\\n\")\n",
    "        f.write(f\"int animation_height = {height};\\n\")\n",
    "        f.write(\"const unsigned short PROGMEM frame[][\"+str(total)+\"] = {\\n\")\n",
    "        \n",
    "        # Write each frame's data\n",
    "        for frame in frames:\n",
    "            f.write(\"    {\")\n",
    "            f.write(', '.join(map(str, frame)))\n",
    "            f.write(\"},\\n\")\n",
    "        \n",
    "        f.write(\"};\\n\")\n",
    "        \n",
    "def write_txt_file(frames, output_file, scheme=\"utf-8\"):\n",
    "    with open(output_file, \"w\", encoding=scheme) as f:       \n",
    "        # Write each frame's data\n",
    "        for frame in frames:\n",
    "            f.write(''.join(map(str, frame)))\n",
    "            # f.write(' '.join(map(str, frame)))\n",
    "            # f.write(\"\\n\")\n",
    "\n",
    "def write_bin_file(frames, output_file):\n",
    "    with open(output_file, \"wb\") as f:     \n",
    "        # Write each frame's data\n",
    "        for frame in frames:\n",
    "            f.write(bytes(frame))\n",
    " "
   ]
  },
  {
   "cell_type": "code",
   "execution_count": 51,
   "id": "357e65e1-79f7-44d1-9ed9-bdd3e414cef8",
   "metadata": {},
   "outputs": [
    {
     "name": "stdout",
     "output_type": "stream",
     "text": [
      "ÿ ú 255 250\n",
      "D:\\_____ENGINEERING_____\\arduino\\AnimationTFT-main\\myConverter\\gifs/bluelain\\testASCII.bin\n"
     ]
    }
   ],
   "source": [
    "# test ASCII zipping\n",
    "MSB_chr,LSB_chr,MSB,LSB = color_to_char(65530)\n",
    "print(MSB_chr,LSB_chr,MSB,LSB)\n",
    "\n",
    "output_txt_file = os.path.join(parent_folder,\"testASCII.bin\")\n",
    "print(output_txt_file)\n",
    "# with open(output_txt_file, \"w\",encoding=\"latin-1\") as f:       \n",
    "#     # Write each frame's data\n",
    "#     f.write(MSB_chr)\n",
    "#     f.write(LSB_chr)\n",
    "with open(output_txt_file, \"wb\") as file:\n",
    "    file.write(bytes([i for i in range(256)]))"
   ]
  },
  {
   "cell_type": "markdown",
   "id": "3ba269b4-9bef-44d2-9bf3-e17ed11e7ae4",
   "metadata": {},
   "source": [
    "# File"
   ]
  },
  {
   "cell_type": "code",
   "execution_count": 6,
   "id": "7f9ece9f-7ac8-434d-b47a-5b4ac40e4660",
   "metadata": {},
   "outputs": [
    {
     "name": "stdout",
     "output_type": "stream",
     "text": [
      "Folder path: D:/_____ENGINEERING_____/arduino/AnimationTFT-main/myConverter/gifs/bad_apple/bad_appleFrames\n"
     ]
    }
   ],
   "source": [
    "name = \"bad_apple\"\n",
    "current_path = os.getcwd()\n",
    "\n",
    "parent_folder = os.path.join(current_path, \"gifs/\"+name)\n",
    "folder_path = os.path.join(parent_folder, name+\"Frames\").replace(\"\\\\\", \"/\")\n",
    "print(\"Folder path:\",folder_path)"
   ]
  },
  {
   "cell_type": "code",
   "execution_count": 61,
   "id": "3c9590e0-b1dc-41da-ab0f-56cb2d0a1d73",
   "metadata": {},
   "outputs": [
    {
     "name": "stdout",
     "output_type": "stream",
     "text": [
      "Folder path: D:/_____ENGINEERING_____/arduino/AnimationTFT-main/myConverter/gifs/bad_apple/bad_appleFramesStep1\n"
     ]
    }
   ],
   "source": [
    "# run if need to step\n",
    "step = 1\n",
    "stepFrame(folder_path,step)\n",
    "folder_path = os.path.join(parent_folder, name+\"FramesStep\"+str(step)).replace(\"\\\\\", \"/\")\n",
    "print(\"Folder path:\",folder_path)"
   ]
  },
  {
   "cell_type": "code",
   "execution_count": 7,
   "id": "4db51d6c-1844-429d-9771-0a80731ec467",
   "metadata": {},
   "outputs": [],
   "source": [
    "# output_header_file = os.path.join(parent_folder,name+\".h\")\n",
    "# output_txt_file_0 = os.path.join(parent_folder,name+\"0.txt\")\n",
    "# output_txt_file_1 = os.path.join(parent_folder,name+\"1.txt\")\n",
    "# output_txt_file = os.path.join(parent_folder,name+\"ASCII1.txt\")\n",
    "output_bin_file = os.path.join(parent_folder,name+\"ASCII.bin\")"
   ]
  },
  {
   "cell_type": "code",
   "execution_count": 8,
   "id": "3e320181-2dfb-48d2-84ff-55ea2652fb7e",
   "metadata": {},
   "outputs": [
    {
     "name": "stdout",
     "output_type": "stream",
     "text": [
      "Files generated successfully.\n"
     ]
    }
   ],
   "source": [
    "# Process the images in the folder\n",
    "frames_raw, frames_hex4, frames_int, width, height, num_frames = process_images(folder_path)\n",
    "# frames_hex_0, frames_hex_1, width, height, num_frames = process_images_double(folder_path)\n",
    "\n",
    "# Write the results to the C header file\n",
    "# write_header_file(frames_hex, width, height, num_frames, output_header_file)\n",
    "\n",
    "# write_txt_file(frames_int, output_txt_file) # dont use unless test int\n",
    "# write_txt_file(frames_hex_0, output_txt_file_0)\n",
    "# write_txt_file(frames_hex_1, output_txt_file_1)\n",
    "# write_txt_file(frames_char, output_txt_file,\"latin-1\")\n",
    "\n",
    "write_bin_file(frames_raw, output_bin_file)\n",
    "print(f\"Files generated successfully.\")"
   ]
  },
  {
   "cell_type": "code",
   "execution_count": null,
   "id": "e97419f8-cc73-4e8f-857c-4aabaa9b5cb0",
   "metadata": {},
   "outputs": [],
   "source": []
  }
 ],
 "metadata": {
  "kernelspec": {
   "display_name": "Python 3 (ipykernel)",
   "language": "python",
   "name": "python3"
  },
  "language_info": {
   "codemirror_mode": {
    "name": "ipython",
    "version": 3
   },
   "file_extension": ".py",
   "mimetype": "text/x-python",
   "name": "python",
   "nbconvert_exporter": "python",
   "pygments_lexer": "ipython3",
   "version": "3.8.20"
  }
 },
 "nbformat": 4,
 "nbformat_minor": 5
}
