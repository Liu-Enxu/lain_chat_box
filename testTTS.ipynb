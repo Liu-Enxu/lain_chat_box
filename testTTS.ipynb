{
 "cells": [
  {
   "cell_type": "code",
   "execution_count": 62,
   "id": "0f410871-161a-401b-b58e-92a38d34870c",
   "metadata": {},
   "outputs": [
    {
     "name": "stdout",
     "output_type": "stream",
     "text": [
      "D:\\_____ENGINEERING_____\\Anaconda\\exe\\envs\\lain-chat\\Lib\\site-packages\\cv2\\../../x64/vc14/bin;D:\\_____ENGINEERING_____\\Anaconda\\exe\\envs\\lain-chat\\lib\\site-packages\\paddle\\fluid;D:\\_____ENGINEERING_____\\Anaconda\\exe\\envs\\lain-chat\\lib\\site-packages\\paddle\\fluid\\..\\libs;D:\\_____ENGINEERING_____\\Anaconda\\exe\\envs\\lain-chat;D:\\_____ENGINEERING_____\\Anaconda\\exe\\envs\\lain-chat\\Library\\mingw-w64\\bin;D:\\_____ENGINEERING_____\\Anaconda\\exe\\envs\\lain-chat\\Library\\usr\\bin;D:\\_____ENGINEERING_____\\Anaconda\\exe\\envs\\lain-chat\\Library\\bin;D:\\_____ENGINEERING_____\\Anaconda\\exe\\envs\\lain-chat\\Scripts;D:\\_____ENGINEERING_____\\Anaconda\\exe\\envs\\lain-chat\\bin;D:\\_____ENGINEERING_____\\Anaconda\\exe\\condabin;C:\\Program Files\\NVIDIA GPU Computing Toolkit\\CUDA\\v12.6\\bin;C:\\Program Files\\NVIDIA GPU Computing Toolkit\\CUDA\\v12.6\\libnvvp;D:\\_____ENGINEERING_____\\VMware\\exe\\bin;C:\\Windows\\system32;C:\\Windows;C:\\Windows\\System32\\Wbem;C:\\Windows\\System32\\WindowsPowerShell\\v1.0;C:\\Windows\\System32\\OpenSSH;C:\\Program Files\\dotnet;C:\\Program Files (x86)\\NVIDIA Corporation\\PhysX\\Common;D:\\Windows Kits\\10\\Windows Performance Toolkit;C:\\Program Files\\NVIDIA Corporation\\NVIDIA app\\NvDLISR;C:\\Program Files\\NVIDIA Corporation\\Nsight Compute 2024.3.2;C:\\Users\\liuen\\AppData\\Local\\Microsoft\\WindowsApps;D:\\_____ENGINEERING_____\\VScode\\Microsoft VS Code\\bin\n"
     ]
    },
    {
     "name": "stderr",
     "output_type": "stream",
     "text": [
      "[nltk_data] Downloading package averaged_perceptron_tagger_eng to\n",
      "[nltk_data]     D:\\_____ENGINEERING_____\\Anaconda\\exe\\envs\\lain-\n",
      "[nltk_data]     chat\\lib\\nltk_data...\n",
      "[nltk_data]   Package averaged_perceptron_tagger_eng is already up-to-\n",
      "[nltk_data]       date!\n"
     ]
    },
    {
     "data": {
      "text/plain": [
       "True"
      ]
     },
     "execution_count": 62,
     "metadata": {},
     "output_type": "execute_result"
    }
   ],
   "source": [
    "import nltk\n",
    "nltk.download('averaged_perceptron_tagger_eng')"
   ]
  },
  {
   "cell_type": "code",
   "execution_count": 115,
   "id": "fe1cde71-f224-4852-afc3-b908cf8f8fb8",
   "metadata": {},
   "outputs": [
    {
     "name": "stdout",
     "output_type": "stream",
     "text": [
      "True\n",
      "gpu:0\n"
     ]
    }
   ],
   "source": [
    "import paddle\n",
    "print(paddle.is_compiled_with_cuda())  # Should return True\n",
    "paddle.set_device('gpu:0')\n",
    "print(paddle.device.get_device())"
   ]
  },
  {
   "cell_type": "code",
   "execution_count": 116,
   "id": "87180f8a-d7a6-4a9c-bdd7-b9b48c1f2ea4",
   "metadata": {},
   "outputs": [],
   "source": [
    "from paddlespeech.cli.tts.infer import TTSExecutor"
   ]
  },
  {
   "cell_type": "code",
   "execution_count": 117,
   "id": "229f31f8-8482-4dd8-973b-1af86101234e",
   "metadata": {},
   "outputs": [],
   "source": [
    "tts_executor = TTSExecutor()"
   ]
  },
  {
   "cell_type": "code",
   "execution_count": 121,
   "id": "0be7ae90-380c-439c-8838-22b764fcca3c",
   "metadata": {},
   "outputs": [],
   "source": [
    "wav_file = tts_executor(\n",
    "    text='你好，这个音频是生成的，但是不知道为什么，说话慢的要死。 下面我来朗读一段英文：the exponential term of the polynomial could be converted to the laplace plane using laplace transform',\n",
    "    output='outputpegan.wav',\n",
    "    am='fastspeech2_mix', # fastspeech2_aishell3, fastspeech2_mix\n",
    "    voc='pwgan_aishell3',\n",
    "    lang='mix',\n",
    "    spk_id=2,\n",
    "    use_onnx=True,\n",
    "    device=paddle.get_device())"
   ]
  },
  {
   "cell_type": "code",
   "execution_count": null,
   "id": "6e50cd27-3086-4538-838d-9f3beb19b656",
   "metadata": {},
   "outputs": [],
   "source": []
  }
 ],
 "metadata": {
  "kernelspec": {
   "display_name": "Python 3 (ipykernel)",
   "language": "python",
   "name": "python3"
  },
  "language_info": {
   "codemirror_mode": {
    "name": "ipython",
    "version": 3
   },
   "file_extension": ".py",
   "mimetype": "text/x-python",
   "name": "python",
   "nbconvert_exporter": "python",
   "pygments_lexer": "ipython3",
   "version": "3.8.20"
  }
 },
 "nbformat": 4,
 "nbformat_minor": 5
}
